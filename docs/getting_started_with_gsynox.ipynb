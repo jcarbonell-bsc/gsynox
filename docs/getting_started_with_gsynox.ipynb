{
 "cells": [
  {
   "cell_type": "markdown",
   "id": "cec555c6-dafc-4d4a-8124-fbb1446fdca8",
   "metadata": {},
   "source": [
    "# <div align=\"center\">GSynoX</div>\n",
    "## <div align=\"center\">A lightweight gene ID translator that deals with synonyms and deprecated aliases</div>\n",
    "\n",
    "GSynoX is a lightweight software tool designed to simplify a common task in bioinformatics: translating gene IDs between different formats such as HGNC gene symbols, Ensembl IDs, and Entrez IDs. To achieve this efficiently, GSynoX handles the various aliases and deprecated IDs associated with each gene symbol. Leveraging data from the HGNC database, GSynoX enables consistent use of gene symbols across datasets, even when different aliases are employed for the same genes. This is particularly useful for harmonizing data during integrative analyses. Unlike tools like BioMart that perform on-the-fly translations via internet connectivity, GSynoX operates entirely offline. It maintains a local copy of gene ID mappings, ensuring portability and optimal performance in environments such as high-performance computing (HPC) clusters, where internet access may be restricted for security reasons."
   ]
  },
  {
   "cell_type": "markdown",
   "id": "1e5eed27-9f8e-41c7-9499-42bd88b3ea16",
   "metadata": {},
   "source": [
    "## Hello world translation\n",
    "\n",
    "This tutorial introduces GSynoX and demonstrates its capabilities for various tasks, including handling gene synonyms, prioritizing preferred IDs, and integrating custom datasets. Follow along to learn how to use GSynoX effectively in your bioinformatics workflows. Let’s get started!\n",
    "\n",
    "To begin, we need to import the necessary classes and initialize the GSynoX class, which serves as the primary interface for interacting with the tool."
   ]
  },
  {
   "cell_type": "code",
   "execution_count": 95,
   "id": "9148fbc1-661d-4088-b5b1-1b265bb8d7f3",
   "metadata": {},
   "outputs": [
    {
     "name": "stdout",
     "output_type": "stream",
     "text": [
      "Using internal database /home/jose/anaconda3/envs/gxref/lib/python3.10/site-packages/gsynox/resources/master.pkl\n"
     ]
    }
   ],
   "source": [
    "from gsynox import GSynoX\n",
    "from gsynox.builder import Builder\n",
    "import pandas as pd\n",
    "\n",
    "g = GSynoX()"
   ]
  },
  {
   "cell_type": "markdown",
   "id": "53bac75d-d0a8-4e11-871f-15f6aaca885d",
   "metadata": {},
   "source": [
    "To evaluate the current content of GSynoX master database, we can use the function `get_info`."
   ]
  },
  {
   "cell_type": "code",
   "execution_count": 96,
   "id": "17503975-f74c-4105-8776-48082f61d69c",
   "metadata": {},
   "outputs": [
    {
     "data": {
      "text/plain": [
       "{'version': 0.1,\n",
       " 'date': 'Wed Nov 13 17:18:22 2024',\n",
       " 'dbs': ['symbol', 'ensembl_gene', 'entrez', 'hgnc', 'uniprot'],\n",
       " 'log': ['Added uniprot on Wed Nov 13 17:19:55 2024']}"
      ]
     },
     "execution_count": 96,
     "metadata": {},
     "output_type": "execute_result"
    }
   ],
   "source": [
    "g.get_info()"
   ]
  },
  {
   "cell_type": "markdown",
   "id": "68d6e551-05dd-43b3-b6d1-2a769739d3af",
   "metadata": {},
   "source": [
    "Once created, GSynoX instance can easily translate a list of provided ids by the user, in this case from gene SYMBOL to ENSEMBL_GENE formats."
   ]
  },
  {
   "cell_type": "code",
   "execution_count": 97,
   "id": "e3c0e1c7-8ecb-48a2-b361-76b48e1136eb",
   "metadata": {},
   "outputs": [
    {
     "data": {
      "text/plain": [
       "['ENSG00000128573', 'ENSG00000136997', 'ENSG00000245848']"
      ]
     },
     "execution_count": 97,
     "metadata": {},
     "output_type": "execute_result"
    }
   ],
   "source": [
    "some_genes = [\"FOXP2\", \"MYC\", \"CEBPA\"]\n",
    "g.symbol_to_ensembl_gene(some_genes)"
   ]
  },
  {
   "cell_type": "markdown",
   "id": "2d15ec64-849f-42fe-936d-1fef2da049ae",
   "metadata": {},
   "source": [
    "## Working with synonyms\n",
    "\n",
    "Gene symbols often have synonyms or deprecated aliases, which can vary widely across datasets and introduce significant variability. GSynoX addresses this challenge by enabling you to retrieve and manage these synonyms, ensuring consistent and standardized naming throughout your analyses\n"
   ]
  },
  {
   "cell_type": "code",
   "execution_count": 98,
   "id": "ecb6ff48-2fd0-498a-b431-36f17b2bd811",
   "metadata": {},
   "outputs": [
    {
     "data": {
      "text/plain": [
       "['MYCC', 'bHLHe39', 'c-Myc']"
      ]
     },
     "execution_count": 98,
     "metadata": {},
     "output_type": "execute_result"
    }
   ],
   "source": [
    "gene = \"MYC\"\n",
    "g.synonyms(gene)"
   ]
  },
  {
   "cell_type": "markdown",
   "id": "f79d5b77-1e54-44ce-a2c3-f72bd3c807d4",
   "metadata": {},
   "source": [
    "When GSynoX translates an external ID, it defaults to returning the official gene symbol. However, the package can also retrieve all registered synonyms, providing additional context and flexibility for downstream analyses. To enable this feature, simply set the all_synonyms parameter to True."
   ]
  },
  {
   "cell_type": "code",
   "execution_count": 99,
   "id": "7f589703-6eb9-4411-8046-020f35844951",
   "metadata": {},
   "outputs": [
    {
     "data": {
      "text/plain": [
       "'ENSG00000136997'"
      ]
     },
     "execution_count": 99,
     "metadata": {},
     "output_type": "execute_result"
    }
   ],
   "source": [
    "ens = g.symbol_to_ensembl_gene(gene)\n",
    "ens"
   ]
  },
  {
   "cell_type": "code",
   "execution_count": 100,
   "id": "311f5524-d32c-4d52-9f6c-ed2e6f4478b2",
   "metadata": {},
   "outputs": [
    {
     "data": {
      "text/plain": [
       "'MYC'"
      ]
     },
     "execution_count": 100,
     "metadata": {},
     "output_type": "execute_result"
    }
   ],
   "source": [
    "g.ensembl_gene_to_symbol(ens)"
   ]
  },
  {
   "cell_type": "code",
   "execution_count": 101,
   "id": "84b08dfc-f0ce-4dde-9346-990b22691ae6",
   "metadata": {},
   "outputs": [
    {
     "data": {
      "text/plain": [
       "['MYC', 'MYCC', 'bHLHe39', 'c-Myc']"
      ]
     },
     "execution_count": 101,
     "metadata": {},
     "output_type": "execute_result"
    }
   ],
   "source": [
    "g.ensembl_gene_to_symbol(ens, all_synonyms=True)"
   ]
  },
  {
   "cell_type": "markdown",
   "id": "aa4499d4-5776-4dba-b40c-3074f903583a",
   "metadata": {},
   "source": [
    "This functionality also works when the user provides more than ID for translation, providing as a results a list of lists."
   ]
  },
  {
   "cell_type": "code",
   "execution_count": 102,
   "id": "bdc5b389-a492-4da0-974f-3a1ff8e9b0fe",
   "metadata": {},
   "outputs": [
    {
     "data": {
      "text/plain": [
       "[['FOXP2', 'CAGH44', 'SPCH1', 'TNRC10'],\n",
       " ['MYC', 'MYCC', 'bHLHe39', 'c-Myc'],\n",
       " ['CEBPA', 'C/EBP-alpha', 'CEBP']]"
      ]
     },
     "execution_count": 102,
     "metadata": {},
     "output_type": "execute_result"
    }
   ],
   "source": [
    "some_ens = g.symbol_to_ensembl_gene(some_genes)\n",
    "g.ensembl_gene_to_symbol(some_ens, all_synonyms=True)"
   ]
  },
  {
   "cell_type": "markdown",
   "id": "4b420484-2742-47b6-83a3-3681b463a181",
   "metadata": {},
   "source": [
    "## Using a preferred list of IDs\n",
    "\n",
    "The recommended best practice for harmonizing gene SYMBOLs across two datasets is to convert both to their official ids. However, in cases where one dataset cannot be easily converted (e.g., due to a complex data model), you can align the SYMBOLs by translating one dataset's IDs to match the specific aliases used in the other. This can be achieved by leveraging the `preferred_ids` parameter to prioritize the desired aliases during the translation process.\n",
    "\n"
   ]
  },
  {
   "cell_type": "code",
   "execution_count": 103,
   "id": "f3668196-69b4-4814-a4ce-0fe3e4eabbb7",
   "metadata": {},
   "outputs": [
    {
     "data": {
      "text/plain": [
       "[['CAGH44', 'SPCH1', 'TNRC10'],\n",
       " ['MYCC', 'bHLHe39', 'c-Myc'],\n",
       " ['C/EBP-alpha', 'CEBP']]"
      ]
     },
     "execution_count": 103,
     "metadata": {},
     "output_type": "execute_result"
    }
   ],
   "source": [
    "g.synonyms(some_genes)"
   ]
  },
  {
   "cell_type": "code",
   "execution_count": 104,
   "id": "e7d0bc4a-9637-491c-acba-e2fe0c1625cf",
   "metadata": {},
   "outputs": [
    {
     "data": {
      "text/plain": [
       "['FOXP2', 'MYC', 'CEBPA']"
      ]
     },
     "execution_count": 104,
     "metadata": {},
     "output_type": "execute_result"
    }
   ],
   "source": [
    "g.ensembl_gene_to_symbol(some_ens)"
   ]
  },
  {
   "cell_type": "code",
   "execution_count": 105,
   "id": "85a5fdbe-d27a-4e52-81d0-2d93089e59a5",
   "metadata": {},
   "outputs": [
    {
     "data": {
      "text/plain": [
       "['CAGH44', 'MYCC', 'C/EBP-alpha']"
      ]
     },
     "execution_count": 105,
     "metadata": {},
     "output_type": "execute_result"
    }
   ],
   "source": [
    "g.ensembl_gene_to_symbol(some_ens, preferred_ids=[\"CAGH44\", \"MYCC\", \"C/EBP-alpha\"])"
   ]
  },
  {
   "cell_type": "markdown",
   "id": "cccf7b65-defc-43da-b29c-45a13f6a4bcd",
   "metadata": {},
   "source": [
    "## Dealing with missing IDs\n",
    "\n",
    "GSynoX can handle cases where some of the provided IDs are missing or invalid, making it robust for messy datasets, By default, missing IDs return None.\n"
   ]
  },
  {
   "cell_type": "code",
   "execution_count": 106,
   "id": "d49386e7-7540-427f-a4ad-7d91d5958e49",
   "metadata": {},
   "outputs": [
    {
     "data": {
      "text/plain": [
       "[None, None]"
      ]
     },
     "execution_count": 106,
     "metadata": {},
     "output_type": "execute_result"
    }
   ],
   "source": [
    "g.ensembl_gene_to_symbol([\"FAKE1\", \"FAKE2\"])"
   ]
  },
  {
   "cell_type": "markdown",
   "id": "59996b15-5902-4812-aa70-bf7ee7e28206",
   "metadata": {},
   "source": [
    "For more flexibility, you can specify a custom default value for missing IDs."
   ]
  },
  {
   "cell_type": "code",
   "execution_count": 107,
   "id": "1a5bfa8c-2be2-4d17-8c7c-507c38b538ec",
   "metadata": {},
   "outputs": [
    {
     "data": {
      "text/plain": [
       "['unknown', 'unknown']"
      ]
     },
     "execution_count": 107,
     "metadata": {},
     "output_type": "execute_result"
    }
   ],
   "source": [
    "g.default_null_id = \"unknown\"\n",
    "g.ensembl_gene_to_symbol([\"FAKE1\", \"FAKE2\"])"
   ]
  },
  {
   "cell_type": "markdown",
   "id": "5ec4691e-74d1-47da-8630-6ed223fc77fe",
   "metadata": {},
   "source": [
    "## Shorcuts to most popular \n",
    "\n",
    "GSynoX supports direct translation between the most popular ID types, such as ENSEMBL_GENE, ENTREZ or HGNC IDs.\n"
   ]
  },
  {
   "cell_type": "code",
   "execution_count": 108,
   "id": "2a6d0c76-c4d7-4744-abeb-aae7a258cf1b",
   "metadata": {},
   "outputs": [
    {
     "data": {
      "text/plain": [
       "['ENSG00000128573', 'ENSG00000136997', 'ENSG00000245848']"
      ]
     },
     "execution_count": 108,
     "metadata": {},
     "output_type": "execute_result"
    }
   ],
   "source": [
    "g.symbol_to_ensembl_gene(some_genes)"
   ]
  },
  {
   "cell_type": "code",
   "execution_count": 109,
   "id": "5ab4a912-4215-46d2-8730-96e5588a7fdd",
   "metadata": {},
   "outputs": [
    {
     "data": {
      "text/plain": [
       "['93986', '4609', '1050']"
      ]
     },
     "execution_count": 109,
     "metadata": {},
     "output_type": "execute_result"
    }
   ],
   "source": [
    "g.symbol_to_entrez(some_genes)"
   ]
  },
  {
   "cell_type": "code",
   "execution_count": 110,
   "id": "cdc5a15f-6d2a-4c8d-8c0f-147ae36c238a",
   "metadata": {},
   "outputs": [
    {
     "data": {
      "text/plain": [
       "['HGNC:13875', 'HGNC:7553', 'HGNC:1833']"
      ]
     },
     "execution_count": 110,
     "metadata": {},
     "output_type": "execute_result"
    }
   ],
   "source": [
    "g.symbol_to_hgnc(some_genes)"
   ]
  },
  {
   "cell_type": "markdown",
   "id": "3bedb17f-1624-4a9a-9614-01f376d89cdf",
   "metadata": {},
   "source": [
    "Also, at the protein level, such as UNIPROT"
   ]
  },
  {
   "cell_type": "code",
   "execution_count": 111,
   "id": "ea9117a6-8251-4437-968a-927ea7ab8e47",
   "metadata": {},
   "outputs": [
    {
     "data": {
      "text/plain": [
       "[['A0A994J3Y0',\n",
       "  'Q8N6B5',\n",
       "  'A0A0U1RQY3',\n",
       "  'F8WDL6',\n",
       "  'Q75MZ5',\n",
       "  'A0A0U1RQR8',\n",
       "  'X5D2H2',\n",
       "  'Q0PRL4',\n",
       "  'O15409',\n",
       "  'A0A994J6W1',\n",
       "  'A8MUV4',\n",
       "  'A0A0U1RQE0',\n",
       "  'C9JQP8',\n",
       "  'A0A0U1RQM2',\n",
       "  'A8MTU2'],\n",
       " ['Q14899', 'A0A494C1T8', 'H0YBG3', 'A0A0B4J1R1', 'Q16591', 'P01106'],\n",
       " ['P49715']]"
      ]
     },
     "execution_count": 111,
     "metadata": {},
     "output_type": "execute_result"
    }
   ],
   "source": [
    "g.symbol_to_uniprot(some_genes)"
   ]
  },
  {
   "cell_type": "markdown",
   "id": "814e3bfa-3f8c-414c-be71-16b64359f450",
   "metadata": {},
   "source": [
    "Although GSynoX is mainly oriented to translate from/to gene symbol, it allows users to translate between two external databases such as ENSEMBL_GENE and ENTREZ ids."
   ]
  },
  {
   "cell_type": "code",
   "execution_count": 112,
   "id": "05efcb86-893e-4e0c-ad8a-9a31b1ae4299",
   "metadata": {},
   "outputs": [
    {
     "data": {
      "text/plain": [
       "['ENSG00000128573', 'ENSG00000136997', 'ENSG00000245848']"
      ]
     },
     "execution_count": 112,
     "metadata": {},
     "output_type": "execute_result"
    }
   ],
   "source": [
    "some_ens"
   ]
  },
  {
   "cell_type": "code",
   "execution_count": 113,
   "id": "5dea7635-32f6-43fa-bef3-c0789d35eeb7",
   "metadata": {},
   "outputs": [
    {
     "data": {
      "text/plain": [
       "['93986', '4609', '1050']"
      ]
     },
     "execution_count": 113,
     "metadata": {},
     "output_type": "execute_result"
    }
   ],
   "source": [
    "g.cross_id(some_ens, \"ensembl_gene\", \"entrez\", select_one=True)"
   ]
  },
  {
   "cell_type": "markdown",
   "id": "4311b52b-5527-4652-8c3f-ec0e30d91465",
   "metadata": {},
   "source": [
    "## Adding a new type of identifier to GSynoX\n",
    "\n",
    "GSynoX can be easily extended with custom datasets, allowing you to incorporate additional ID mappings specific to your research. The Builder class lets the user to manage and add custom databases."
   ]
  },
  {
   "cell_type": "code",
   "execution_count": 114,
   "id": "e840f172-156b-415a-be08-86f521624086",
   "metadata": {},
   "outputs": [],
   "source": [
    "# Initilizing db Builder\n",
    "b = Builder()\n",
    "b.master = g.master"
   ]
  },
  {
   "cell_type": "markdown",
   "id": "20837bcf-d22a-4dc5-9d26-95483f264d0f",
   "metadata": {},
   "source": [
    "As an example, we can integrate a toy database containing specific IDs for three existing gene symbols. The input file for this database should consist of two columns: the first column lists the specific gene symbols, while the second contains their corresponding IDs from the external database. If a gene symbol maps to multiple IDs, these IDs should be listed in the second column, separated by colons. This format ensures that all possible translations are properly captured and usable."
   ]
  },
  {
   "cell_type": "code",
   "execution_count": 90,
   "id": "60235b8c-892b-4085-99bc-46ec83c4e9a2",
   "metadata": {},
   "outputs": [
    {
     "data": {
      "text/html": [
       "<div>\n",
       "<style scoped>\n",
       "    .dataframe tbody tr th:only-of-type {\n",
       "        vertical-align: middle;\n",
       "    }\n",
       "\n",
       "    .dataframe tbody tr th {\n",
       "        vertical-align: top;\n",
       "    }\n",
       "\n",
       "    .dataframe thead th {\n",
       "        text-align: right;\n",
       "    }\n",
       "</style>\n",
       "<table border=\"1\" class=\"dataframe\">\n",
       "  <thead>\n",
       "    <tr style=\"text-align: right;\">\n",
       "      <th></th>\n",
       "      <th>symbol</th>\n",
       "      <th>external</th>\n",
       "    </tr>\n",
       "  </thead>\n",
       "  <tbody>\n",
       "    <tr>\n",
       "      <th>0</th>\n",
       "      <td>MYC</td>\n",
       "      <td>a,b,c</td>\n",
       "    </tr>\n",
       "    <tr>\n",
       "      <th>1</th>\n",
       "      <td>FOXP2</td>\n",
       "      <td>d,e</td>\n",
       "    </tr>\n",
       "    <tr>\n",
       "      <th>2</th>\n",
       "      <td>CEBPA</td>\n",
       "      <td>f,g,h,i</td>\n",
       "    </tr>\n",
       "  </tbody>\n",
       "</table>\n",
       "</div>"
      ],
      "text/plain": [
       "  symbol external\n",
       "0    MYC    a,b,c\n",
       "1  FOXP2      d,e\n",
       "2  CEBPA  f,g,h,i"
      ]
     },
     "execution_count": 90,
     "metadata": {},
     "output_type": "execute_result"
    }
   ],
   "source": [
    "toy_db_file = \"toy_db.tsv\"\n",
    "toy_db = pd.read_csv(toy_db_file, sep=\"\\t\", dtype=\"str\")\n",
    "toy_db"
   ]
  },
  {
   "cell_type": "markdown",
   "id": "d2587349-350f-4b29-94d4-93eccd583c5d",
   "metadata": {},
   "source": [
    "To add the database we just have to use the `add_db` function of the `Builder` class as follows:"
   ]
  },
  {
   "cell_type": "code",
   "execution_count": 91,
   "id": "4d6c3707-ef30-4c7d-a98a-0b889d79f407",
   "metadata": {},
   "outputs": [],
   "source": [
    "b.add_db(toy_db_file, \"toy\")\n",
    "g.master = b.master"
   ]
  },
  {
   "cell_type": "markdown",
   "id": "5a98b118-966c-4193-ad9a-d315ab4a94ee",
   "metadata": {},
   "source": [
    "Then, to use the newly added database we will employ the generic functions `symbol_to_id` and `id_to_symbol`."
   ]
  },
  {
   "cell_type": "code",
   "execution_count": 92,
   "id": "d304890e-5c6d-43fb-b952-c07e3d577bae",
   "metadata": {},
   "outputs": [
    {
     "data": {
      "text/plain": [
       "[['d', 'e'], ['a', 'b', 'c'], ['f', 'g', 'h', 'i']]"
      ]
     },
     "execution_count": 92,
     "metadata": {},
     "output_type": "execute_result"
    }
   ],
   "source": [
    "g.symbol_to_id(some_genes, \"toy\", select_one=False)"
   ]
  },
  {
   "cell_type": "code",
   "execution_count": 93,
   "id": "e1c1a917-3fd2-4efc-8b93-853e1663f3ac",
   "metadata": {},
   "outputs": [
    {
     "data": {
      "text/plain": [
       "['MYC', 'FOXP2', 'CEBPA']"
      ]
     },
     "execution_count": 93,
     "metadata": {},
     "output_type": "execute_result"
    }
   ],
   "source": [
    "g.id_to_symbol([\"a\", \"d\", \"g\"], \"toy\")"
   ]
  },
  {
   "cell_type": "markdown",
   "id": "8dbdcaaa-ee99-4350-adaf-d83299acf5e1",
   "metadata": {},
   "source": [
    "Finally, thanks to the internal structure of GSynoX, the newly added database can be also use for cross tranlation to other external database."
   ]
  },
  {
   "cell_type": "code",
   "execution_count": 94,
   "id": "a660a70b-da3c-4c57-a12e-d52014b2ac89",
   "metadata": {},
   "outputs": [
    {
     "data": {
      "text/plain": [
       "['d', 'e']"
      ]
     },
     "execution_count": 94,
     "metadata": {},
     "output_type": "execute_result"
    }
   ],
   "source": [
    "ens = g.symbol_to_ensembl_gene(\"FOXP2\")\n",
    "g.cross_id(ens, \"ensembl_gene\", \"toy\")"
   ]
  }
 ],
 "metadata": {
  "kernelspec": {
   "display_name": "Python 3 (ipykernel)",
   "language": "python",
   "name": "python3"
  },
  "language_info": {
   "codemirror_mode": {
    "name": "ipython",
    "version": 3
   },
   "file_extension": ".py",
   "mimetype": "text/x-python",
   "name": "python",
   "nbconvert_exporter": "python",
   "pygments_lexer": "ipython3",
   "version": "3.10.15"
  }
 },
 "nbformat": 4,
 "nbformat_minor": 5
}
